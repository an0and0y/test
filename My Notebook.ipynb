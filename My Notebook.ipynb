{
    "cells": [
        {
            "cell_type": "markdown",
            "metadata": {
                "collapsed": true
            },
            "source": "# My Jupyter Notebook on IBM Watson Studio"
        },
        {
            "cell_type": "markdown",
            "metadata": {},
            "source": "**Anand K** <br> Analyst"
        },
        {
            "cell_type": "markdown",
            "metadata": {},
            "source": "*I am interested in Data science because Data science provides me with the two most important things that I like i.e. extensive coding and in-depth analysis.*"
        },
        {
            "cell_type": "markdown",
            "metadata": {},
            "source": "### The following code provides an example of format method of String variable"
        },
        {
            "cell_type": "code",
            "execution_count": 4,
            "metadata": {},
            "outputs": [
                {
                    "data": {
                        "text/plain": "'Anand K likes to learn Data Science'"
                    },
                    "execution_count": 4,
                    "metadata": {},
                    "output_type": "execute_result"
                }
            ],
            "source": "\"Anand K likes to learn {0}\".format(\"Data Science\")"
        },
        {
            "cell_type": "markdown",
            "metadata": {},
            "source": "IBM Data Science Certificate :\n![](https://images.credly.com/images/28944969-813a-43b9-944f-7910111ce764/Professional_Certificate_-_Data_Science.png)<br><br>\n[Click](https://www.coursera.org/professional-certificates/ibm-data-science) to start your journey to IBM Data Science Professional Certificate<br><br>\nI ~~hate~~ love Data Science.\n"
        }
    ],
    "metadata": {
        "kernelspec": {
            "display_name": "Python 3.8",
            "language": "python",
            "name": "python3"
        },
        "language_info": {
            "codemirror_mode": {
                "name": "ipython",
                "version": 3
            },
            "file_extension": ".py",
            "mimetype": "text/x-python",
            "name": "python",
            "nbconvert_exporter": "python",
            "pygments_lexer": "ipython3",
            "version": "3.8.10"
        }
    },
    "nbformat": 4,
    "nbformat_minor": 1
}